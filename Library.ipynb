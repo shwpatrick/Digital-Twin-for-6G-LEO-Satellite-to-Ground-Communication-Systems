{
 "cells": [
  {
   "cell_type": "code",
   "execution_count": 7,
   "id": "e1c9985b",
   "metadata": {},
   "outputs": [],
   "source": [
    "# system control\n",
    "# ==========================================================\n",
    "import os\n",
    "import warnings\n",
    "warnings.filterwarnings('ignore')\n",
    "\n",
    "from IPython.display import clear_output\n",
    "\n",
    "# time \n",
    "# ==========================================================\n",
    "import time # for API time sleep \n",
    "import datetime\n",
    "\n",
    "# skyfield api\n",
    "# ==========================================================\n",
    "from skyfield.api import load, wgs84\n",
    "from skyfield.api import EarthSatellite\n",
    "\n",
    "\n",
    "# plot \n",
    "# ==========================================================\n",
    "from matplotlib import pyplot as plt\n",
    "from matplotlib import colors \n",
    "import seaborn as sns\n",
    "sns.set_theme()\n",
    "\n",
    "# dataframe\n",
    "# ==========================================================\n",
    "from numpy import array2string\n",
    "import numpy as np\n",
    "\n",
    "# goe dataframe\n",
    "# ==========================================================\n",
    "import geopandas as gpd\n",
    "import contextily as ctx # basemap\n",
    "from shapely.geometry import Point, LineString, Polygon, MultiLineString\n",
    " \n",
    "# calculation\n",
    "# ==========================================================\n",
    "import math\n",
    "\n",
    "\n",
    "# used when plot \n",
    "# ==========================================================\n",
    "import glob\n",
    "import pandas as pd\n",
    "import matplotlib.dates as mdates\n",
    "import matplotlib.patches as mpatches"
   ]
  },
  {
   "cell_type": "code",
   "execution_count": null,
   "id": "b6f6aa5e",
   "metadata": {},
   "outputs": [],
   "source": []
  }
 ],
 "metadata": {
  "kernelspec": {
   "display_name": "WorkSpace",
   "language": "python",
   "name": "workspace"
  },
  "language_info": {
   "codemirror_mode": {
    "name": "ipython",
    "version": 3
   },
   "file_extension": ".py",
   "mimetype": "text/x-python",
   "name": "python",
   "nbconvert_exporter": "python",
   "pygments_lexer": "ipython3",
   "version": "3.10.6"
  }
 },
 "nbformat": 4,
 "nbformat_minor": 5
}
