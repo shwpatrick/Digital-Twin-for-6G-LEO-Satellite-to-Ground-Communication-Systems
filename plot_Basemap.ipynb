{
 "cells": [
  {
   "cell_type": "code",
   "execution_count": 4,
   "id": "f2ab3977",
   "metadata": {},
   "outputs": [],
   "source": [
    "def plot_basemap(buildingsData):\n",
    "    \n",
    "    # create folder\n",
    "    # =================================================\n",
    "    if not os.path.exists('data/FigurePlot/basemap' ):\n",
    "        os.makedirs( 'data/FigurePlot/basemap' )\n",
    "        print('create directory : basemap' )\n",
    "    folder_path_basemap = 'data/FigurePlot/basemap/'\n",
    "\n",
    "    # OSM\n",
    "    # =================================================\n",
    "    fig, ax = plt.subplots(figsize=(30,30))\n",
    "    buildingsData.plot(ax=ax)\n",
    "    ctx.add_basemap(ax, source=ctx.providers.OpenStreetMap.Mapnik)\n",
    "    \n",
    "    plt.title('Shapefile on OSM BaseMap')\n",
    "    plt.xlabel('metres')\n",
    "    plt.ylabel('metres')\n",
    "\n",
    "    plt.savefig(folder_path_basemap + 'Shapefile_on_OSM.png',bbox_inches='tight')\n",
    "    plt.close()\n",
    "    \n",
    "    # Basemap\n",
    "    # =================================================\n",
    "    fig, ax = plt.subplots(figsize=(30,30))\n",
    "    buildingsData.plot(ax=ax)\n",
    "    ctx.add_basemap(ax)\n",
    "\n",
    "    plt.title('Shapefile on BaseMap')\n",
    "    plt.xlabel('metres')\n",
    "    plt.ylabel('metres')\n",
    "\n",
    "    plt.savefig(folder_path_basemap + 'Shapefile_on_BaseMap.png',bbox_inches='tight')\n",
    "    plt.close()"
   ]
  },
  {
   "cell_type": "code",
   "execution_count": null,
   "id": "e3ddf30c",
   "metadata": {},
   "outputs": [],
   "source": []
  }
 ],
 "metadata": {
  "kernelspec": {
   "display_name": "WorkSpace",
   "language": "python",
   "name": "workspace"
  },
  "language_info": {
   "codemirror_mode": {
    "name": "ipython",
    "version": 3
   },
   "file_extension": ".py",
   "mimetype": "text/x-python",
   "name": "python",
   "nbconvert_exporter": "python",
   "pygments_lexer": "ipython3",
   "version": "3.10.6"
  }
 },
 "nbformat": 4,
 "nbformat_minor": 5
}
