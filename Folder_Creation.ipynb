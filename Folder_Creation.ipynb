{
 "cells": [
  {
   "cell_type": "code",
   "execution_count": 3,
   "id": "2bedba98",
   "metadata": {},
   "outputs": [],
   "source": [
    "# create basic folder "
   ]
  },
  {
   "cell_type": "code",
   "execution_count": 4,
   "id": "767f6c1f",
   "metadata": {},
   "outputs": [],
   "source": [
    "def create_folder() :\n",
    "    \n",
    "    # create Building folder\n",
    "    # ===========================================\n",
    "    if not os.path.exists('data'):\n",
    "        os.makedirs('data')\n",
    "        print('create directory : data')\n",
    "    \n",
    "    # create Building folder\n",
    "    # ===========================================\n",
    "    if not os.path.exists('data/Buildings'):\n",
    "        os.makedirs('data/Buildings')\n",
    "        print('create directory : data/Buildings')\n",
    "    \n",
    "    # create folder to put TLE \n",
    "    # ===========================================\n",
    "    if not os.path.exists('data/SatelliteList_Celestrak'):\n",
    "        os.makedirs('data/SatelliteList_Celestrak')\n",
    "        print('create directory : data/SatelliteList_Celestrak')\n",
    "    \n",
    "    # create folder to plot figure\n",
    "    # ===========================================\n",
    "    if not os.path.exists('data/FigurePlot') :\n",
    "        os.makedirs('data/FigurePlot')\n",
    "        print('create directory : data/FigurePlot')\n",
    "        \n",
    "    # create folder to plot figure\n",
    "    # ===========================================\n",
    "    if not os.path.exists('data/Geojson') :\n",
    "        os.makedirs('data/Geojson')\n",
    "        print('create directory : data/Geojson')\n",
    "        "
   ]
  },
  {
   "cell_type": "code",
   "execution_count": null,
   "id": "1dffb7d4",
   "metadata": {},
   "outputs": [],
   "source": []
  }
 ],
 "metadata": {
  "kernelspec": {
   "display_name": "WorkSpace",
   "language": "python",
   "name": "workspace"
  },
  "language_info": {
   "codemirror_mode": {
    "name": "ipython",
    "version": 3
   },
   "file_extension": ".py",
   "mimetype": "text/x-python",
   "name": "python",
   "nbconvert_exporter": "python",
   "pygments_lexer": "ipython3",
   "version": "3.10.6"
  }
 },
 "nbformat": 4,
 "nbformat_minor": 5
}
