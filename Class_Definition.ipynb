{
 "cells": [
  {
   "cell_type": "markdown",
   "id": "c3640021",
   "metadata": {},
   "source": [
    "# Channel"
   ]
  },
  {
   "cell_type": "code",
   "execution_count": 19,
   "id": "eca5d579",
   "metadata": {},
   "outputs": [],
   "source": [
    "# ex:  \n",
    "# \n",
    "# chan = Channel() # 宣告 channel \n",
    "# print(chan)      # 顯示 channel info"
   ]
  },
  {
   "cell_type": "code",
   "execution_count": 25,
   "id": "f377cb3f",
   "metadata": {},
   "outputs": [],
   "source": [
    "class Channel():\n",
    "    \n",
    "    def __init__(self):\n",
    "        \n",
    "        self.CarrierFrequency = 2.2e9\n",
    "        self.Band             = \"S\"\n",
    "        self.ElevationAngle   = 45\n",
    "        self.MobileSpeed      = 0.8333\n",
    "        self.Environment      = \"Urban\"\n",
    "        self.SampleRate       = 400\n",
    "        self.Altitude         = 0\n",
    "        self.State            = 'LOS'\n",
    "        \n",
    "    def __str__(self): \n",
    "        \n",
    "        str_return = \"\"\"From str method of Channel: \\n \n",
    "        Environment        = %s \n",
    "        CarrierFrequency   = %.2E (Hz)\n",
    "        Band               = %s   \n",
    "        ElevationAngle     = %d   (degree)\n",
    "        MobileSpeed        = %.1f ()\n",
    "        SampleRate         = %d   ()\n",
    "        Altitude           = %d   ()\n",
    "        State              = %s   ()\n",
    "        \"\"\"% (self.Environment,self.CarrierFrequency,self.Band,self.ElevationAngle,self.MobileSpeed,self.SampleRate,self.Altitude,self.State)\n",
    "        \n",
    "        return str_return "
   ]
  },
  {
   "cell_type": "markdown",
   "id": "44601fff",
   "metadata": {},
   "source": [
    "# User Location"
   ]
  },
  {
   "cell_type": "code",
   "execution_count": 22,
   "id": "248433c7",
   "metadata": {},
   "outputs": [],
   "source": [
    "# ex:  \n",
    "# \n",
    "# user_a = User_Location() # 宣告 user locaiton \n",
    "# print(user_a)            # 顯示 user location info"
   ]
  },
  {
   "cell_type": "code",
   "execution_count": 1,
   "id": "2d212553",
   "metadata": {},
   "outputs": [],
   "source": [
    "class User_Location():\n",
    "    \n",
    "    def __init__(self):\n",
    "\n",
    "        self.Longitude = 0  # 經度\n",
    "        self.Latitude  = 0  # 緯度\n",
    "        self.Height = 0\n",
    "        self.User_Name = 'None'\n",
    "        \n",
    "    def __str__(self): \n",
    "        \n",
    "        str_return = \"\"\"From str method of Fixed User Info: \\n \n",
    "        Longitude = %.4f ()\n",
    "        Latitude  = %.4f ()\n",
    "        Height    = %.4f ()\n",
    "        User_Name = %s      \n",
    "        \"\"\"% (self.Longitude,self.Latitude,self.Height,selfUser_Name)\n",
    "        \n",
    "        return str_return "
   ]
  },
  {
   "cell_type": "markdown",
   "id": "ba054d3b",
   "metadata": {},
   "source": [
    "# Time List"
   ]
  },
  {
   "cell_type": "code",
   "execution_count": 29,
   "id": "4fd9afca",
   "metadata": {},
   "outputs": [],
   "source": [
    "# ex:  \n",
    "# \n",
    "# t_list = Time_List() # 宣告 user locaiton \n",
    "# print(t_list)            # 顯示 user location info"
   ]
  },
  {
   "cell_type": "code",
   "execution_count": 30,
   "id": "ca2af31c",
   "metadata": {},
   "outputs": [],
   "source": [
    "class Time_List():\n",
    "    \n",
    "    def __init__(self):\n",
    "\n",
    "        dt_s = str('20220917000000')\n",
    "        dt_start = datetime.datetime.strptime(dt_s,\"%Y%m%d%H%M%S\")\n",
    "        \n",
    "        dt_e = str('20220918000000')\n",
    "        dt_end = datetime.datetime.strptime(dt_e,\"%Y%m%d%H%M%S\")\n",
    "        \n",
    "        self.Start = dt_start\n",
    "        self.End   = dt_end\n",
    "        self.Step  = 3600      # seconds\n",
    "        \n",
    "    def __str__(self): \n",
    "        \n",
    "        \n",
    "        str_start = self.Start.strftime(\"%Y/%m/%d %H:%M:%S\")\n",
    "        str_end   = self.End.strftime(\"%Y/%m/%d %H:%M:%S\")\n",
    "        step      = self.Step/3600 #(Hour)\n",
    "        \n",
    "        str_return = \"\"\"From str method of Time List: \\n \n",
    "        start time = %s ()\n",
    "        end   time = %s ()\n",
    "        step       = %.1f (Hour)\n",
    "        \"\"\"% (str_start,str_end,step)\n",
    "        \n",
    "        return str_return "
   ]
  },
  {
   "cell_type": "markdown",
   "id": "d0056dd4",
   "metadata": {},
   "source": [
    "# Link Info"
   ]
  },
  {
   "cell_type": "code",
   "execution_count": 3,
   "id": "3a342063",
   "metadata": {},
   "outputs": [],
   "source": [
    "# When the time, satellite, and user positions are known, \n",
    "# the relationship between the user and the satellite can be calculated.\n",
    "\n",
    "# The position of the satellite and the user at each time point \n",
    "# will be organized in this class."
   ]
  },
  {
   "cell_type": "code",
   "execution_count": 4,
   "id": "1afbcfc1",
   "metadata": {},
   "outputs": [],
   "source": [
    "class Link_Info () :\n",
    "    \n",
    "    def __init__(self) :\n",
    "        \n",
    "        self.TimeStep = 0\n",
    "        self.Time = []\n",
    "        self.User_loc = []\n",
    "        self.State = []  # LOS/NLOS/Out_of_range \n",
    "        \n",
    "        self.SAT_name = \"None\"\n",
    "        \n",
    "        self.SAT_Latitude  = [] # 35deg 25' 04.8\"\n",
    "        self.SAT_Longitude = [] # -80deg 09' 28.3\"\n",
    "        self.SAT_Height = []\n",
    "        \n",
    "        self.EL = []\n",
    "        self.AZ = []\n",
    "        \n",
    "        self.Diff_Altitude  = []#: -22deg 44' 59.7\"\n",
    "        self.Diff_Azimuth   = []#: 261deg 26' 22.3\"\n",
    "        self.Diff_Distance  = []#: 5884.7 km\n",
    "        \n",
    "        self.Diff_RA = []    #:  20h 36m 29.08s # right ascension\n",
    "        self.Diff_De = []    #:  -15deg 19' 34.8 # Declination\n",
    "        self.Diff_dis= []    # \n",
    "    \n",
    "        self.range = []      # km\n",
    "        self.range_rate = [] # "
   ]
  },
  {
   "cell_type": "markdown",
   "id": "2e97caf4",
   "metadata": {},
   "source": [
    "# Simulation Parameter"
   ]
  },
  {
   "cell_type": "code",
   "execution_count": 3,
   "id": "b414a848",
   "metadata": {},
   "outputs": [],
   "source": [
    "class Simulation_Parameter () :\n",
    "    \n",
    "    def __init__(self) :\n",
    "        \n",
    "        self.Sat_num = 10                               # The number of adopted satellite orbits.\n",
    "        self.Txt_sat_list = 'sat_id_list.txt'           # The txt stores NORAD ID of used orbit.\n",
    "        self.Level_avg_height = 3.5                     # The average height per floor. (metre)\n",
    "        self.Effective_range = 1000                     # The maximum distance at which building equipment can affect users. (metre)\n",
    "        \n",
    "        self.Fc = 2204.400 * 10e6                       # Carrier Frequency (Hz)\n",
    "        self.Environment = \"DenseUrban\""
   ]
  },
  {
   "cell_type": "code",
   "execution_count": null,
   "id": "059d64ac",
   "metadata": {},
   "outputs": [],
   "source": []
  }
 ],
 "metadata": {
  "kernelspec": {
   "display_name": "WorkSpace",
   "language": "python",
   "name": "workspace"
  },
  "language_info": {
   "codemirror_mode": {
    "name": "ipython",
    "version": 3
   },
   "file_extension": ".py",
   "mimetype": "text/x-python",
   "name": "python",
   "nbconvert_exporter": "python",
   "pygments_lexer": "ipython3",
   "version": "3.10.6"
  }
 },
 "nbformat": 4,
 "nbformat_minor": 5
}
