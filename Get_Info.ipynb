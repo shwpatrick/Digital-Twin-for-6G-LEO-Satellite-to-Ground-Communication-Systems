{
 "cells": [
  {
   "cell_type": "markdown",
   "id": "d7d05fcd",
   "metadata": {},
   "source": [
    "# Buildings"
   ]
  },
  {
   "cell_type": "code",
   "execution_count": 1,
   "id": "20ba0840",
   "metadata": {},
   "outputs": [],
   "source": [
    "# input : shapefile file name\n",
    "# output : exploded building data"
   ]
  },
  {
   "cell_type": "code",
   "execution_count": 2,
   "id": "4bb82fe9",
   "metadata": {},
   "outputs": [],
   "source": [
    "def getInfo_Buildings(shpfile_buildings):\n",
    "    \n",
    "    filename = shpfile_buildings\n",
    "    \n",
    "    try :\n",
    "        fp = \"data/Buildings/\" + str(filename)\n",
    "        data = gpd.read_file(fp)\n",
    "\n",
    "        exploded = data.explode(ignore_index=True)\n",
    "        exploded['area'] = exploded.area\n",
    "        #exploded.plot()\n",
    "\n",
    "        return exploded\n",
    "    \n",
    "    except :\n",
    "        print('building file not found')"
   ]
  },
  {
   "cell_type": "code",
   "execution_count": null,
   "id": "16a3886c",
   "metadata": {},
   "outputs": [],
   "source": []
  }
 ],
 "metadata": {
  "kernelspec": {
   "display_name": "WorkSpace",
   "language": "python",
   "name": "workspace"
  },
  "language_info": {
   "codemirror_mode": {
    "name": "ipython",
    "version": 3
   },
   "file_extension": ".py",
   "mimetype": "text/x-python",
   "name": "python",
   "nbconvert_exporter": "python",
   "pygments_lexer": "ipython3",
   "version": "3.10.6"
  }
 },
 "nbformat": 4,
 "nbformat_minor": 5
}
