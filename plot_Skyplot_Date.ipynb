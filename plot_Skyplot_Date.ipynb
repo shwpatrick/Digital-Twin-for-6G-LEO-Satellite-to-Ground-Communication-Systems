{
 "cells": [
  {
   "cell_type": "code",
   "execution_count": 2,
   "id": "65ff2a75",
   "metadata": {},
   "outputs": [],
   "source": [
    "def plot_skyplot_date(gdf) :\n",
    "    \n",
    "    plt.rcdefaults() \n",
    "    sns.set_theme()\n",
    "    \n",
    "    # folder \n",
    "    # =================================================\n",
    "    \n",
    "    if not os.path.exists('data/FigurePlot/plot_skyplot_date' ):\n",
    "        os.makedirs( 'data/FigurePlot/plot_skyplot_date' )\n",
    "        print('create directory : plot_skyplot_date' )\n",
    "        \n",
    "    folder_path = 'data/FigurePlot/plot_skyplot_date/'\n",
    "\n",
    "    \n",
    "    SAT_list = gdf[\"SAT_name\"].unique()\n",
    "    sat_num = len(SAT_list)\n",
    "    \n",
    "    for sat in SAT_list :\n",
    "        \n",
    "        sat_gdf = gdf[gdf['SAT_name']==str(sat)]\n",
    "\n",
    "        location_list = sat_gdf['location'].unique()\n",
    "        for location in location_list :\n",
    "        \n",
    "            location_gdf = sat_gdf[sat_gdf['location']==location]\n",
    "            \n",
    "            plt.figure(figsize=(15, 15))\n",
    "            ax = plt.subplot(111, projection='polar')\n",
    "            ax.set_theta_direction(-1)\n",
    "            ax.set_theta_zero_location('N')\n",
    "            ax.set_xticklabels(['N', '', 'E', '', 'S', '', 'W', ''])\n",
    "            ax.set_rlim(90,0)\n",
    "            ax.set_rticks([90,60,30,0])  \n",
    "            ax.set_rlabel_position(112.5) \n",
    "            ax.tick_params(axis='both', which='major', labelsize=30)\n",
    "\n",
    "            day_list = location_gdf['day'].unique()\n",
    "            for day in day_list :\n",
    "                \n",
    "                day_gdf = location_gdf[location_gdf['day']==day]\n",
    "                \n",
    "                def apply_fx(r):\n",
    "                    output = math.radians(r['SAT_AZ'])\n",
    "                    return output\n",
    "                # 以 apply_fx 建立新的列（Column）\n",
    "                \n",
    "                day_gdf['radians_AZ'] = day_gdf.apply(apply_fx, axis=1)\n",
    "                \n",
    "                plt.plot(day_gdf['radians_AZ'], day_gdf['SAT_EL'], '.',label = 'day: '+str(day), markersize = 20)\n",
    "\n",
    "            plt.legend(loc='upper left', prop={'size': 24})\n",
    "            plt.savefig(folder_path + 'SAT_' + str(sat) + '_' + str(location) + ' ' + str(sat_num) +'.png')\n",
    "            plt.close()  "
   ]
  },
  {
   "cell_type": "code",
   "execution_count": null,
   "id": "ad199857",
   "metadata": {},
   "outputs": [],
   "source": []
  }
 ],
 "metadata": {
  "kernelspec": {
   "display_name": "WorkSpace",
   "language": "python",
   "name": "workspace"
  },
  "language_info": {
   "codemirror_mode": {
    "name": "ipython",
    "version": 3
   },
   "file_extension": ".py",
   "mimetype": "text/x-python",
   "name": "python",
   "nbconvert_exporter": "python",
   "pygments_lexer": "ipython3",
   "version": "3.10.6"
  }
 },
 "nbformat": 4,
 "nbformat_minor": 5
}
